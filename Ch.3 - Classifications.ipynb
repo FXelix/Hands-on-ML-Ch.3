{
 "cells": [
  {
   "cell_type": "code",
   "execution_count": 1,
   "id": "809f1892",
   "metadata": {},
   "outputs": [],
   "source": [
    "from sklearn.datasets import fetch_openml\n",
    "import pandas as pd\n",
    "import numpy as np\n",
    "import matplotlib.pyplot as plt"
   ]
  },
  {
   "cell_type": "code",
   "execution_count": 2,
   "id": "2f2572e0",
   "metadata": {},
   "outputs": [],
   "source": [
    "mnist = fetch_openml('mnist_784',parser='auto')"
   ]
  },
  {
   "cell_type": "code",
   "execution_count": 3,
   "id": "93cc6382",
   "metadata": {},
   "outputs": [],
   "source": [
    "X = mnist['data']\n",
    "y = mnist['target']"
   ]
  },
  {
   "cell_type": "code",
   "execution_count": 4,
   "id": "edeb5993",
   "metadata": {},
   "outputs": [
    {
     "data": {
      "text/plain": [
       "(70000,)"
      ]
     },
     "execution_count": 4,
     "metadata": {},
     "output_type": "execute_result"
    }
   ],
   "source": [
    "np.shape(y)"
   ]
  },
  {
   "cell_type": "code",
   "execution_count": 5,
   "id": "7113cf5c",
   "metadata": {},
   "outputs": [
    {
     "data": {
      "text/plain": [
       "<matplotlib.image.AxesImage at 0x7ffa5f999420>"
      ]
     },
     "execution_count": 5,
     "metadata": {},
     "output_type": "execute_result"
    },
    {
     "data": {
      "image/png": "[encoded data removed]",
      "text/plain": [
       "<Figure size 432x288 with 1 Axes>"
      ]
     },
     "metadata": {},
     "output_type": "display_data"
    }
   ],
   "source": [
    "somedigit = X.loc[36003]\n",
    "somedigit_reshape = somedigit.values.reshape((28,28))\n",
    "plt.axis('off')\n",
    "plt.imshow(somedigit_reshape)"
   ]
  },
  {
   "cell_type": "code",
   "execution_count": 6,
   "id": "a0486237",
   "metadata": {},
   "outputs": [],
   "source": [
    "X_train,X_test,y_train,y_test = X[:60000],X[60000:],y[:60000],y[60000:]"
   ]
  },
  {
   "cell_type": "code",
   "execution_count": 7,
   "id": "f82b9fd4",
   "metadata": {},
   "outputs": [],
   "source": [
    "shuffle_index = np.random.permutation(60000)\n",
    "X_train,y_train = X_train.loc[shuffle_index],y_train[shuffle_index]"
   ]
  },
  {
   "cell_type": "code",
   "execution_count": 8,
   "id": "7a88d0ae",
   "metadata": {},
   "outputs": [],
   "source": [
    "# we now test a 9 classifier as a binary classifier\n",
    "\n",
    "y_train_7 = (y_train == '7')\n",
    "X_train_7 = (X_train == 7)"
   ]
  },
  {
   "cell_type": "code",
   "execution_count": 9,
   "id": "aa0e32b3",
   "metadata": {},
   "outputs": [
    {
     "name": "stderr",
     "output_type": "stream",
     "text": [
      "/home/felixs/.local/lib/python3.10/site-packages/sklearn/base.py:409: UserWarning: X does not have valid feature names, but SGDClassifier was fitted with feature names\n",
      "  warnings.warn(\n"
     ]
    },
    {
     "data": {
      "text/plain": [
       "array([ True])"
      ]
     },
     "execution_count": 9,
     "metadata": {},
     "output_type": "execute_result"
    }
   ],
   "source": [
    "\n",
    "from sklearn.linear_model import SGDClassifier\n",
    "\n",
    "sgd_clf = SGDClassifier(random_state=42)\n",
    "sgd_clf.fit(X_train,y_train_7)\n",
    "\n",
    "sgd_clf.predict([somedigit])"
   ]
  },
  {
   "cell_type": "code",
   "execution_count": 10,
   "id": "c09553a1",
   "metadata": {},
   "outputs": [],
   "source": [
    "## Performance measures\n",
    "# Measuring accuracy via cross validation\n",
    "from sklearn.model_selection import StratifiedKFold\n",
    "from sklearn.base import clone"
   ]
  },
  {
   "cell_type": "code",
   "execution_count": 11,
   "id": "50077ce6",
   "metadata": {},
   "outputs": [
    {
     "name": "stdout",
     "output_type": "stream",
     "text": [
      "0.9743\n",
      "0.9758\n",
      "0.9803\n"
     ]
    }
   ],
   "source": [
    "skfolds = StratifiedKFold(n_splits=3)\n",
    "\n",
    "for train_index, test_index in skfolds.split(X_train,y_train_7):\n",
    "    clone_clf = clone(sgd_clf)\n",
    "    X_train_folds = X_train.loc[train_index]\n",
    "    y_train_folds = y_train_7[train_index]\n",
    "    X_test_fold = X_train.loc[test_index]\n",
    "    y_test_fold = y_train_7[test_index]\n",
    "    \n",
    "    \n",
    "    clone_clf.fit(X_train_folds,y_train_folds)\n",
    "    y_pred = clone_clf.predict(X_test_fold)\n",
    "    n_correct = sum(y_pred == y_test_fold)\n",
    "    print(n_correct/len(y_pred))\n",
    "    \n",
    "    "
   ]
  },
  {
   "cell_type": "code",
   "execution_count": 12,
   "id": "7d616256",
   "metadata": {},
   "outputs": [
    {
     "data": {
      "text/plain": [
       "array([0.9791, 0.9769, 0.9798])"
      ]
     },
     "execution_count": 12,
     "metadata": {},
     "output_type": "execute_result"
    }
   ],
   "source": [
    "from sklearn.model_selection import cross_val_score\n",
    "cross_val_score(sgd_clf,X_train,y_train_7,cv=3,scoring='accuracy')\n",
    "\n",
    "# Accuracy seems good, but as only 10% of the set is 7s this accuracy is not enough, or accuracy is a bad performance measure"
   ]
  },
  {
   "cell_type": "code",
   "execution_count": 16,
   "id": "beb33301",
   "metadata": {},
   "outputs": [
    {
     "data": {
      "text/plain": [
       "array([[53210,   525],\n",
       "       [  759,  5506]])"
      ]
     },
     "execution_count": 16,
     "metadata": {},
     "output_type": "execute_result"
    }
   ],
   "source": [
    "# Confusion matrix\n",
    "\n",
    "from sklearn.model_selection import cross_val_predict\n",
    "\n",
    "y_train_pred = cross_val_predict(sgd_clf, X_train,y_train_7,cv=3)\n",
    "\n",
    "from sklearn.metrics import confusion_matrix\n",
    "\n",
    "confusion_matrix(y_train_7, y_train_pred)"
   ]
  },
  {
   "cell_type": "code",
   "execution_count": 18,
   "id": "1a2a2a04",
   "metadata": {},
   "outputs": [
    {
     "name": "stdout",
     "output_type": "stream",
     "text": [
      "0.9129497595755265 0.8788507581803671\n",
      "0.8955757970071567\n"
     ]
    }
   ],
   "source": [
    "# accuracy of the positive predictions is called: precision\n",
    "from sklearn.metrics import precision_score, recall_score,f1_score\n",
    "\n",
    "print(precision_score(y_train_7,y_train_pred),recall_score(y_train_7,y_train_pred))\n",
    "print(f1_score(y_train_7,y_train_pred))"
   ]
  },
  {
   "cell_type": "code",
   "execution_count": 22,
   "id": "e4634f86",
   "metadata": {},
   "outputs": [],
   "source": [
    "# Precision/Recall tradeoff\n",
    "y_scores = cross_val_predict(sgd_clf,X_train,y_train_7, cv=3,method='decision_function')\n",
    "\n",
    "from sklearn.metrics import precision_recall_curve\n",
    "precisions,recalls,thresholds = precision_recall_curve(y_train_7, y_scores)"
   ]
  },
  {
   "cell_type": "code",
   "execution_count": 27,
   "id": "561a42fc",
   "metadata": {},
   "outputs": [
    {
     "data": {
      "image/png": "[encoded data removed]",
      "text/plain": [
       "<Figure size 432x288 with 1 Axes>"
      ]
     },
     "metadata": {},
     "output_type": "display_data"
    }
   ],
   "source": [
    "def plot_p_r_t(precisions,recalls,thresholds):\n",
    "    plt.plot(thresholds,precisions[:-1],label='precision')\n",
    "    plt.plot(thresholds,recalls[:-1],label='recall')\n",
    "    \n",
    "plot_p_r_t(precisions,recalls,thresholds)\n",
    "plt.xlim(-5e4,5e4)\n",
    "plt.show()"
   ]
  },
  {
   "cell_type": "code",
   "execution_count": 32,
   "id": "2eceb1b6",
   "metadata": {},
   "outputs": [
    {
     "name": "stdout",
     "output_type": "stream",
     "text": [
      "0.9000645786244753 0.8898643256185156\n"
     ]
    }
   ],
   "source": [
    "threshold_90_precisions = thresholds[np.argmax(precisions>=0.90)]\n",
    "\n",
    "y_train_pred_90 = y_scores>=threshold_90_precisions\n",
    "print(precision_score(y_train_7,y_train_pred_90),recall_score(y_train_7,y_train_pred_90))\n",
    "\n",
    "## 'We want to reach 99% Precision!' - 'But at what recall?'"
   ]
  },
  {
   "cell_type": "code",
   "execution_count": 33,
   "id": "fd6dada3",
   "metadata": {},
   "outputs": [],
   "source": [
    "# The ROC Curve\n"
   ]
  },
  {
   "cell_type": "code",
   "execution_count": null,
   "id": "9ad037be",
   "metadata": {},
   "outputs": [],
   "source": []
  }
 ],
 "metadata": {
  "kernelspec": {
   "display_name": "Python 3 (Spyder)",
   "language": "python3",
   "name": "python3"
  },
  "language_info": {
   "codemirror_mode": {
    "name": "ipython",
    "version": 3
   },
   "file_extension": ".py",
   "mimetype": "text/x-python",
   "name": "python",
   "nbconvert_exporter": "python",
   "pygments_lexer": "ipython3",
   "version": "3.10.9"
  }
 },
 "nbformat": 4,
 "nbformat_minor": 5
}
